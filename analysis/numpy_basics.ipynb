{
 "cells": [
  {
   "cell_type": "code",
   "execution_count": 4,
   "metadata": {},
   "outputs": [],
   "source": [
    "import numpy as np"
   ]
  },
  {
   "cell_type": "code",
   "execution_count": 5,
   "metadata": {},
   "outputs": [
    {
     "name": "stdout",
     "output_type": "stream",
     "text": [
      "[1 2 3 4]\n",
      "<class 'numpy.ndarray'>\n"
     ]
    }
   ],
   "source": [
    "n1=np.array([1,2,3,4])\n",
    "print(n1)\n",
    "print(type(n1))"
   ]
  },
  {
   "cell_type": "code",
   "execution_count": 6,
   "metadata": {},
   "outputs": [
    {
     "data": {
      "text/plain": [
       "array([1, 2, 3, 4])"
      ]
     },
     "execution_count": 6,
     "metadata": {},
     "output_type": "execute_result"
    }
   ],
   "source": [
    "n1"
   ]
  },
  {
   "cell_type": "code",
   "execution_count": 7,
   "metadata": {},
   "outputs": [
    {
     "data": {
      "text/plain": [
       "47"
      ]
     },
     "execution_count": 7,
     "metadata": {},
     "output_type": "execute_result"
    }
   ],
   "source": [
    "x=[]\n",
    "len(dir(x))"
   ]
  },
  {
   "cell_type": "code",
   "execution_count": 8,
   "metadata": {},
   "outputs": [
    {
     "data": {
      "text/plain": [
       "165"
      ]
     },
     "execution_count": 8,
     "metadata": {},
     "output_type": "execute_result"
    }
   ],
   "source": [
    "len(dir(n1))"
   ]
  },
  {
   "cell_type": "code",
   "execution_count": 9,
   "metadata": {},
   "outputs": [
    {
     "data": {
      "text/plain": [
       "(4,)"
      ]
     },
     "execution_count": 9,
     "metadata": {},
     "output_type": "execute_result"
    }
   ],
   "source": [
    "n1.shape # tells we have 4 values separated by commas."
   ]
  },
  {
   "cell_type": "code",
   "execution_count": 10,
   "metadata": {},
   "outputs": [
    {
     "name": "stdout",
     "output_type": "stream",
     "text": [
      "[[1 2 3]\n",
      " [2 3 5]]\n",
      "(2, 3)\n"
     ]
    }
   ],
   "source": [
    "n2=np.array([[1,2,3],[2,3,5]])\n",
    "print(n2)\n",
    "print(n2.shape)"
   ]
  },
  {
   "cell_type": "markdown",
   "metadata": {},
   "source": [
    "Creating matrix:-\n",
    "- arange\n",
    "- linspace\n",
    "- random.rand\n",
    "- random.randn\n",
    "- random.randint\n",
    "- eye\n",
    "- ones\n",
    "- zeros"
   ]
  },
  {
   "cell_type": "code",
   "execution_count": 11,
   "metadata": {},
   "outputs": [
    {
     "data": {
      "text/plain": [
       "(100,)"
      ]
     },
     "execution_count": 11,
     "metadata": {},
     "output_type": "execute_result"
    }
   ],
   "source": [
    "x=np.arange(-10,10,.2)\n",
    "x.shape"
   ]
  },
  {
   "cell_type": "code",
   "execution_count": 12,
   "metadata": {},
   "outputs": [
    {
     "name": "stdout",
     "output_type": "stream",
     "text": [
      "[1.         1.44444444 1.88888889 2.33333333 2.77777778 3.22222222\n",
      " 3.66666667 4.11111111 4.55555556 5.        ]\n"
     ]
    },
    {
     "data": {
      "text/plain": [
       "(10,)"
      ]
     },
     "execution_count": 12,
     "metadata": {},
     "output_type": "execute_result"
    }
   ],
   "source": [
    "y=np.linspace(1,5,10)\n",
    "print(y)\n",
    "y.shape"
   ]
  },
  {
   "cell_type": "code",
   "execution_count": 13,
   "metadata": {},
   "outputs": [
    {
     "data": {
      "text/plain": [
       "array([[0.62080564, 0.46720389, 0.11419321],\n",
       "       [0.7498326 , 0.66071852, 0.93177962],\n",
       "       [0.38098744, 0.77419024, 0.88965095]])"
      ]
     },
     "execution_count": 13,
     "metadata": {},
     "output_type": "execute_result"
    }
   ],
   "source": [
    "np.random.rand(3,3) # Gives random values between 0 and 1."
   ]
  },
  {
   "cell_type": "code",
   "execution_count": 14,
   "metadata": {},
   "outputs": [
    {
     "data": {
      "text/plain": [
       "array([ 0.25970672, -0.52598844, -0.01364803, -1.09025523, -0.54304043,\n",
       "       -0.36826461, -0.26810091,  1.01544875, -0.93961973, -0.45804302])"
      ]
     },
     "execution_count": 14,
     "metadata": {},
     "output_type": "execute_result"
    }
   ],
   "source": [
    "np.random.randn(10)"
   ]
  },
  {
   "cell_type": "code",
   "execution_count": 15,
   "metadata": {},
   "outputs": [
    {
     "data": {
      "text/plain": [
       "array([[276, 266, 779, 972, 588],\n",
       "       [531, 636, 902, 520, 767],\n",
       "       [972, 110, 994, 925, 529],\n",
       "       [481, 445,  89, 789, 470],\n",
       "       [ 58, 489, 729, 119, 879]])"
      ]
     },
     "execution_count": 15,
     "metadata": {},
     "output_type": "execute_result"
    }
   ],
   "source": [
    "np.random.randint(1,1000,(5,5)) # 5*5 matrix with random numbers between 1 and 1000."
   ]
  },
  {
   "cell_type": "code",
   "execution_count": 16,
   "metadata": {},
   "outputs": [
    {
     "name": "stdout",
     "output_type": "stream",
     "text": [
      "[[9 7]\n",
      " [7 5]\n",
      " [3 3]]\n",
      "[[6 3]\n",
      " [4 8]\n",
      " [7 1]]\n"
     ]
    }
   ],
   "source": [
    "x=np.random.randint(1,10,(3,2))\n",
    "y=np.random.randint(1,10,(3,2))\n",
    "print(x)\n",
    "print(y)\n"
   ]
  },
  {
   "cell_type": "code",
   "execution_count": 17,
   "metadata": {},
   "outputs": [
    {
     "data": {
      "text/plain": [
       "array([[14, 12],\n",
       "       [12, 10],\n",
       "       [ 8,  8]])"
      ]
     },
     "execution_count": 17,
     "metadata": {},
     "output_type": "execute_result"
    }
   ],
   "source": [
    "x+5"
   ]
  },
  {
   "cell_type": "code",
   "execution_count": 18,
   "metadata": {},
   "outputs": [
    {
     "data": {
      "text/plain": [
       "array([[15, 10],\n",
       "       [11, 13],\n",
       "       [10,  4]])"
      ]
     },
     "execution_count": 18,
     "metadata": {},
     "output_type": "execute_result"
    }
   ],
   "source": [
    "x+y"
   ]
  },
  {
   "cell_type": "code",
   "execution_count": 19,
   "metadata": {},
   "outputs": [
    {
     "data": {
      "text/plain": [
       "array([[1.5       , 2.33333333],\n",
       "       [1.75      , 0.625     ],\n",
       "       [0.42857143, 3.        ]])"
      ]
     },
     "execution_count": 19,
     "metadata": {},
     "output_type": "execute_result"
    }
   ],
   "source": [
    "x/y"
   ]
  },
  {
   "cell_type": "code",
   "execution_count": 20,
   "metadata": {},
   "outputs": [
    {
     "data": {
      "text/plain": [
       "array([[54, 21],\n",
       "       [28, 40],\n",
       "       [21,  3]])"
      ]
     },
     "execution_count": 20,
     "metadata": {},
     "output_type": "execute_result"
    }
   ],
   "source": [
    "x*y"
   ]
  },
  {
   "cell_type": "code",
   "execution_count": 21,
   "metadata": {},
   "outputs": [
    {
     "data": {
      "text/plain": [
       "array([[75, 92, 70],\n",
       "       [57, 68, 54],\n",
       "       [27, 36, 24]])"
      ]
     },
     "execution_count": 21,
     "metadata": {},
     "output_type": "execute_result"
    }
   ],
   "source": [
    "x.dot(y.T) # Transpose of y matrix."
   ]
  },
  {
   "cell_type": "code",
   "execution_count": 22,
   "metadata": {},
   "outputs": [
    {
     "data": {
      "text/plain": [
       "array([[ 0.41211849,  0.6569866 ],\n",
       "       [ 0.6569866 , -0.95892427],\n",
       "       [ 0.14112001,  0.14112001]])"
      ]
     },
     "execution_count": 22,
     "metadata": {},
     "output_type": "execute_result"
    }
   ],
   "source": [
    "np.sin(x)"
   ]
  },
  {
   "cell_type": "code",
   "execution_count": 23,
   "metadata": {},
   "outputs": [
    {
     "name": "stdout",
     "output_type": "stream",
     "text": [
      "34\n",
      "5.666666666666667\n",
      "2.211083193570267\n",
      "3\n",
      "9\n",
      "4.888888888888889\n"
     ]
    }
   ],
   "source": [
    "print(x.sum())\n",
    "print(x.mean())\n",
    "print(x.std())\n",
    "print(x.min())\n",
    "print(x.max())\n",
    "print(x.var())"
   ]
  },
  {
   "cell_type": "code",
   "execution_count": 25,
   "metadata": {},
   "outputs": [
    {
     "name": "stdout",
     "output_type": "stream",
     "text": [
      "(50,)\n",
      "[[0.         0.10204082 0.20408163 0.30612245 0.40816327]\n",
      " [0.51020408 0.6122449  0.71428571 0.81632653 0.91836735]\n",
      " [1.02040816 1.12244898 1.2244898  1.32653061 1.42857143]\n",
      " [1.53061224 1.63265306 1.73469388 1.83673469 1.93877551]\n",
      " [2.04081633 2.14285714 2.24489796 2.34693878 2.44897959]\n",
      " [2.55102041 2.65306122 2.75510204 2.85714286 2.95918367]\n",
      " [3.06122449 3.16326531 3.26530612 3.36734694 3.46938776]\n",
      " [3.57142857 3.67346939 3.7755102  3.87755102 3.97959184]\n",
      " [4.08163265 4.18367347 4.28571429 4.3877551  4.48979592]\n",
      " [4.59183673 4.69387755 4.79591837 4.89795918 5.        ]]\n",
      "(10, 5)\n"
     ]
    }
   ],
   "source": [
    "a=np.linspace(0,5,50)\n",
    "print(a.shape)\n",
    "a2=a.reshape(10,5)\n",
    "print(a2)\n",
    "print(a2.shape)"
   ]
  },
  {
   "cell_type": "code",
   "execution_count": 26,
   "metadata": {},
   "outputs": [
    {
     "data": {
      "text/plain": [
       "array([[[0.        , 0.10204082],\n",
       "        [0.20408163, 0.30612245],\n",
       "        [0.40816327, 0.51020408],\n",
       "        [0.6122449 , 0.71428571],\n",
       "        [0.81632653, 0.91836735]],\n",
       "\n",
       "       [[1.02040816, 1.12244898],\n",
       "        [1.2244898 , 1.32653061],\n",
       "        [1.42857143, 1.53061224],\n",
       "        [1.63265306, 1.73469388],\n",
       "        [1.83673469, 1.93877551]],\n",
       "\n",
       "       [[2.04081633, 2.14285714],\n",
       "        [2.24489796, 2.34693878],\n",
       "        [2.44897959, 2.55102041],\n",
       "        [2.65306122, 2.75510204],\n",
       "        [2.85714286, 2.95918367]],\n",
       "\n",
       "       [[3.06122449, 3.16326531],\n",
       "        [3.26530612, 3.36734694],\n",
       "        [3.46938776, 3.57142857],\n",
       "        [3.67346939, 3.7755102 ],\n",
       "        [3.87755102, 3.97959184]],\n",
       "\n",
       "       [[4.08163265, 4.18367347],\n",
       "        [4.28571429, 4.3877551 ],\n",
       "        [4.48979592, 4.59183673],\n",
       "        [4.69387755, 4.79591837],\n",
       "        [4.89795918, 5.        ]]])"
      ]
     },
     "execution_count": 26,
     "metadata": {},
     "output_type": "execute_result"
    }
   ],
   "source": [
    "a2.reshape(5,5,2)  # 3D output."
   ]
  },
  {
   "cell_type": "code",
   "execution_count": 30,
   "metadata": {},
   "outputs": [
    {
     "name": "stdout",
     "output_type": "stream",
     "text": [
      "[[1 5 4 6 6 3 6 2 1 5]\n",
      " [1 3 3 1 2 9 6 5 4 7]\n",
      " [5 5 3 2 6 9 5 2 8 2]\n",
      " [4 7 3 3 2 7 8 6 3 7]\n",
      " [2 5 8 2 3 3 8 7 4 7]\n",
      " [4 2 6 2 9 8 8 5 5 7]\n",
      " [2 2 9 2 7 3 5 7 3 3]\n",
      " [1 1 4 1 4 5 6 9 9 6]\n",
      " [4 3 4 9 8 4 9 8 3 6]\n",
      " [9 1 3 6 7 9 7 8 9 8]]\n"
     ]
    }
   ],
   "source": [
    "x=np.random.randint(1,10,(10,10))\n",
    "print(x)"
   ]
  },
  {
   "cell_type": "code",
   "execution_count": 33,
   "metadata": {},
   "outputs": [
    {
     "name": "stdout",
     "output_type": "stream",
     "text": [
      "1\n",
      "5\n",
      "9\n",
      "8\n"
     ]
    }
   ],
   "source": [
    "print(x[0,0]) # first row first column\n",
    "print(x[0,1]) # first row last column\n",
    "print(x[-1,0]) # last row first column\n",
    "print(x[-1,-1]) # last row last column"
   ]
  },
  {
   "cell_type": "code",
   "execution_count": 35,
   "metadata": {},
   "outputs": [
    {
     "name": "stdout",
     "output_type": "stream",
     "text": [
      "[1 5 4 6 6 3 6 2 1 5]\n",
      "[1 3 3 1 2 9 6 5 4 7]\n",
      "[9 1 3 6 7 9 7 8 9 8]\n",
      "[[1 5 4 6 6 3 6 2 1 5]\n",
      " [1 3 3 1 2 9 6 5 4 7]\n",
      " [5 5 3 2 6 9 5 2 8 2]]\n",
      "[[1 1 4 1 4 5 6 9 9 6]\n",
      " [4 3 4 9 8 4 9 8 3 6]\n",
      " [9 1 3 6 7 9 7 8 9 8]]\n"
     ]
    }
   ],
   "source": [
    "print(x[0]) # first row\n",
    "print(x[1]) # second row\n",
    "print(x[-1]) # last row\n",
    "print(x[:3]) # first 3 rows\n",
    "print(x[-3:]) # last 3 rows"
   ]
  },
  {
   "cell_type": "code",
   "execution_count": 37,
   "metadata": {},
   "outputs": [
    {
     "name": "stdout",
     "output_type": "stream",
     "text": [
      "[1 1 5 4 2 4 2 1 4 9]\n",
      "[5 7 2 7 7 7 3 6 6 8]\n",
      "[[1 5 4]\n",
      " [1 3 3]\n",
      " [5 5 3]\n",
      " [4 7 3]\n",
      " [2 5 8]\n",
      " [4 2 6]\n",
      " [2 2 9]\n",
      " [1 1 4]\n",
      " [4 3 4]\n",
      " [9 1 3]]\n",
      "[[2 1 5]\n",
      " [5 4 7]\n",
      " [2 8 2]\n",
      " [6 3 7]\n",
      " [7 4 7]\n",
      " [5 5 7]\n",
      " [7 3 3]\n",
      " [9 9 6]\n",
      " [8 3 6]\n",
      " [8 9 8]]\n"
     ]
    }
   ],
   "source": [
    "print(x[:,0]) # first column\n",
    "print(x[:,-1]) # last column\n",
    "print(x[:,:3]) # first 3 column\n",
    "print(x[:,-3:]) # last 3 column"
   ]
  },
  {
   "cell_type": "code",
   "execution_count": 38,
   "metadata": {},
   "outputs": [
    {
     "name": "stdout",
     "output_type": "stream",
     "text": [
      "[[1 4 6 3]\n",
      " [1 3 1 9]\n",
      " [5 3 2 9]\n",
      " [4 3 3 7]\n",
      " [2 8 2 3]\n",
      " [4 6 2 8]\n",
      " [2 9 2 3]\n",
      " [1 4 1 5]\n",
      " [4 4 9 4]\n",
      " [9 3 6 9]]\n"
     ]
    }
   ],
   "source": [
    "print(x[:,[0,2,3,5]]) # will print 1st,3rd,4th and 6th column."
   ]
  },
  {
   "cell_type": "markdown",
   "metadata": {},
   "source": [
    "Filtering:-"
   ]
  },
  {
   "cell_type": "code",
   "execution_count": 39,
   "metadata": {},
   "outputs": [
    {
     "data": {
      "text/plain": [
       "array([[ True, False,  True, False, False,  True, False,  True,  True,\n",
       "        False],\n",
       "       [ True,  True,  True,  True,  True, False, False, False,  True,\n",
       "        False],\n",
       "       [False, False,  True,  True, False, False, False,  True, False,\n",
       "         True],\n",
       "       [ True, False,  True,  True,  True, False, False, False,  True,\n",
       "        False],\n",
       "       [ True, False, False,  True,  True,  True, False, False,  True,\n",
       "        False],\n",
       "       [ True,  True, False,  True, False, False, False, False, False,\n",
       "        False],\n",
       "       [ True,  True, False,  True, False,  True, False, False,  True,\n",
       "         True],\n",
       "       [ True,  True,  True,  True,  True, False, False, False, False,\n",
       "        False],\n",
       "       [ True,  True,  True, False, False,  True, False, False,  True,\n",
       "        False],\n",
       "       [False,  True,  True, False, False, False, False, False, False,\n",
       "        False]])"
      ]
     },
     "execution_count": 39,
     "metadata": {},
     "output_type": "execute_result"
    }
   ],
   "source": [
    "x<5  # boolean filter."
   ]
  },
  {
   "cell_type": "code",
   "execution_count": 40,
   "metadata": {},
   "outputs": [
    {
     "data": {
      "text/plain": [
       "array([1, 4, 3, 2, 1, 1, 3, 3, 1, 2, 4, 3, 2, 2, 2, 4, 3, 3, 2, 3, 2, 2,\n",
       "       3, 3, 4, 4, 2, 2, 2, 2, 2, 3, 3, 3, 1, 1, 4, 1, 4, 4, 3, 4, 4, 3,\n",
       "       1, 3])"
      ]
     },
     "execution_count": 40,
     "metadata": {},
     "output_type": "execute_result"
    }
   ],
   "source": [
    "x[x<5]"
   ]
  },
  {
   "cell_type": "code",
   "execution_count": 41,
   "metadata": {},
   "outputs": [
    {
     "data": {
      "text/plain": [
       "array([6, 6, 6, 9, 6, 7, 6, 9, 8, 7, 7, 8, 6, 7, 8, 8, 7, 7, 6, 9, 8, 8,\n",
       "       7, 9, 7, 7, 6, 9, 9, 6, 9, 8, 9, 8, 6, 9, 6, 7, 9, 7, 8, 9, 8])"
      ]
     },
     "execution_count": 41,
     "metadata": {},
     "output_type": "execute_result"
    }
   ],
   "source": [
    "x[x>5]"
   ]
  },
  {
   "cell_type": "code",
   "execution_count": 42,
   "metadata": {},
   "outputs": [
    {
     "data": {
      "text/plain": [
       "array([5, 4, 6, 6, 3, 6, 5, 3, 3, 6, 5, 4, 5, 5, 3, 6, 5, 4, 3, 3, 6, 3,\n",
       "       5, 3, 3, 4, 4, 6, 5, 5, 3, 5, 3, 3, 4, 4, 5, 6, 6, 4, 3, 4, 4, 3,\n",
       "       6, 3, 6])"
      ]
     },
     "execution_count": 42,
     "metadata": {},
     "output_type": "execute_result"
    }
   ],
   "source": [
    "x[(x>=3) & (x<=6)]"
   ]
  },
  {
   "cell_type": "code",
   "execution_count": 44,
   "metadata": {},
   "outputs": [
    {
     "data": {
      "text/plain": [
       "322"
      ]
     },
     "execution_count": 44,
     "metadata": {},
     "output_type": "execute_result"
    }
   ],
   "source": [
    "x[x>5].sum()"
   ]
  },
  {
   "cell_type": "code",
   "execution_count": null,
   "metadata": {},
   "outputs": [],
   "source": []
  }
 ],
 "metadata": {
  "kernelspec": {
   "display_name": "base",
   "language": "python",
   "name": "python3"
  },
  "language_info": {
   "codemirror_mode": {
    "name": "ipython",
    "version": 3
   },
   "file_extension": ".py",
   "mimetype": "text/x-python",
   "name": "python",
   "nbconvert_exporter": "python",
   "pygments_lexer": "ipython3",
   "version": "3.10.10"
  },
  "orig_nbformat": 4
 },
 "nbformat": 4,
 "nbformat_minor": 2
}
