{
 "cells": [
  {
   "cell_type": "code",
   "execution_count": 1,
   "metadata": {},
   "outputs": [
    {
     "name": "stdout",
     "output_type": "stream",
     "text": [
      "hi this is akshansh\n"
     ]
    }
   ],
   "source": [
    "#1 Create a string and print it:-\n",
    "\n",
    "s='hi this is akshansh'\n",
    "print (s)"
   ]
  },
  {
   "cell_type": "code",
   "execution_count": 2,
   "metadata": {},
   "outputs": [
    {
     "name": "stdout",
     "output_type": "stream",
     "text": [
      "15\n"
     ]
    }
   ],
   "source": [
    "#2 Take a string input and print it's length:-\n",
    "\n",
    "x='king of pirates'\n",
    "print(len(x))"
   ]
  },
  {
   "cell_type": "code",
   "execution_count": 5,
   "metadata": {},
   "outputs": [
    {
     "name": "stdout",
     "output_type": "stream",
     "text": [
      "great\n"
     ]
    }
   ],
   "source": [
    "#3 Print the last word of the string 'Python is great' using slices:-\n",
    "\n",
    "x='Python is great'\n",
    "y=x[10:15]\n",
    "print(y)\n"
   ]
  },
  {
   "cell_type": "code",
   "execution_count": 32,
   "metadata": {},
   "outputs": [
    {
     "name": "stdout",
     "output_type": "stream",
     "text": [
      "python\n",
      "is\n",
      "everywhere\n"
     ]
    }
   ],
   "source": [
    "#4 Print each word in different line of string 'python is everywhere':-\n",
    "\n",
    "x='python is everywhere'\n",
    "y=x.split()\n",
    "for i in y:\n",
    "    print(i)\n"
   ]
  },
  {
   "cell_type": "code",
   "execution_count": 7,
   "metadata": {},
   "outputs": [
    {
     "name": "stdout",
     "output_type": "stream",
     "text": [
      "!dlroW olleH\n"
     ]
    }
   ],
   "source": [
    "#5 Print the string 'Hello World!' in reverse:-\n",
    "\n",
    "x='Hello World!'\n",
    "y=x[::-1]\n",
    "print(y)\n"
   ]
  },
  {
   "cell_type": "code",
   "execution_count": 8,
   "metadata": {},
   "outputs": [
    {
     "name": "stdout",
     "output_type": "stream",
     "text": [
      "HOW ARE YOU?\n"
     ]
    }
   ],
   "source": [
    "#6 Convert the string 'How are you?' in uppercase:-\n",
    "\n",
    "x='How are you?'\n",
    "print(x.upper())\n"
   ]
  },
  {
   "cell_type": "code",
   "execution_count": 9,
   "metadata": {},
   "outputs": [
    {
     "name": "stdout",
     "output_type": "stream",
     "text": [
      "how is it going?\n"
     ]
    }
   ],
   "source": [
    "#7 Convert the string 'How Is It Going?' in lowercase:-\n",
    "\n",
    "x='How Is It Going?'\n",
    "print(x.lower()) "
   ]
  },
  {
   "cell_type": "code",
   "execution_count": 10,
   "metadata": {},
   "outputs": [
    {
     "data": {
      "text/plain": [
       "'Python is easy to learn'"
      ]
     },
     "execution_count": 10,
     "metadata": {},
     "output_type": "execute_result"
    }
   ],
   "source": [
    "#8 Join the following list by spaces ( ) and print the result, words=['Python','is','easy','to','learn']\n",
    "\n",
    "words=['Python','is','easy','to','learn']\n",
    "' '.join(words)\n"
   ]
  },
  {
   "cell_type": "code",
   "execution_count": 11,
   "metadata": {},
   "outputs": [
    {
     "name": "stdout",
     "output_type": "stream",
     "text": [
      "this is a message\n",
      "with multiple lines\n"
     ]
    }
   ],
   "source": [
    "#9 Print a multiline string using a single string:-\n",
    "\n",
    "msg= '''this is a message\n",
    "with multiple lines'''\n",
    "print(msg)"
   ]
  },
  {
   "cell_type": "code",
   "execution_count": 35,
   "metadata": {},
   "outputs": [
    {
     "name": "stdout",
     "output_type": "stream",
     "text": [
      "to move to newline \\n is used\n"
     ]
    }
   ],
   "source": [
    "#10 Print the string 'to move to newline '\\n' is used.\n",
    "\n",
    "x= r'to move to newline \\n is used'\n",
    "print(x)"
   ]
  },
  {
   "cell_type": "code",
   "execution_count": 33,
   "metadata": {},
   "outputs": [
    {
     "name": "stdout",
     "output_type": "stream",
     "text": [
      "the variable is 15\n"
     ]
    }
   ],
   "source": [
    "#11 Print a variable with some text using a single print function,output should look like following:- the variable is 15\n",
    "\n",
    "x=15\n",
    "print(f'the variable is {x}')"
   ]
  },
  {
   "cell_type": "code",
   "execution_count": 18,
   "metadata": {},
   "outputs": [
    {
     "name": "stdout",
     "output_type": "stream",
     "text": [
      "python is great.\n"
     ]
    }
   ],
   "source": [
    "#12 Concatenate the following strings and print the result, s1='python' s2='is' s3='great'\n",
    "\n",
    "s1='python '\n",
    "s2='is '\n",
    "s3='great.'\n",
    "x = s1 + s2 + s3\n",
    "print(x)\n"
   ]
  },
  {
   "cell_type": "code",
   "execution_count": 20,
   "metadata": {},
   "outputs": [
    {
     "name": "stdout",
     "output_type": "stream",
     "text": [
      "####################\n"
     ]
    }
   ],
   "source": [
    "#13 Print '#' 20 times without using loop:-\n",
    "\n",
    "print('#' *20)\n"
   ]
  },
  {
   "cell_type": "code",
   "execution_count": 21,
   "metadata": {},
   "outputs": [
    {
     "name": "stdout",
     "output_type": "stream",
     "text": [
      "1.\n",
      "2.\n",
      "3.\n",
      "4.\n",
      "5.\n",
      "6.\n",
      "7.\n",
      "8.\n",
      "9.\n"
     ]
    }
   ],
   "source": [
    "#14 Print numbers from 1 to 9,each on separate line,followed by a dot:-\n",
    "\n",
    "for i in range(1,10):\n",
    "    print(f\"{i}.\") "
   ]
  },
  {
   "cell_type": "code",
   "execution_count": 34,
   "metadata": {},
   "outputs": [
    {
     "name": "stdout",
     "output_type": "stream",
     "text": [
      "hi\n",
      "hello\n",
      "hey\n"
     ]
    }
   ],
   "source": [
    "#15 Ask user to input a sentence and print each word on a different line.\n",
    "\n",
    "user_input=input('Enter a sentence:')\n",
    "x=user_input.split()\n",
    "for i in x:\n",
    "    print(i)\n",
    "\n",
    "\n"
   ]
  },
  {
   "cell_type": "code",
   "execution_count": 22,
   "metadata": {},
   "outputs": [
    {
     "name": "stdout",
     "output_type": "stream",
     "text": [
      "The string ends with '?' \n"
     ]
    }
   ],
   "source": [
    "#16 Ask user to input a string and check if the string ends with '?' :-\n",
    "\n",
    "user_input=input('Enter a string:')\n",
    "if user_input[-1]=='?':\n",
    "    print(\"The string ends with '?' \")\n",
    "else:\n",
    "    print(\"The string does not ends with '?' \")\n",
    "       \n"
   ]
  },
  {
   "cell_type": "code",
   "execution_count": 23,
   "metadata": {},
   "outputs": [
    {
     "name": "stdout",
     "output_type": "stream",
     "text": [
      "The letter 'e' appeared 2 times in the string.\n"
     ]
    }
   ],
   "source": [
    "#17 Ask user to input a string and print how many times 'e' appeared in the string.\n",
    "\n",
    "user_input=input('Enter a string:')\n",
    "count_of_e=user_input.count('e')\n",
    "print(f\"The letter 'e' appeared {count_of_e} times in the string.\")\n"
   ]
  },
  {
   "cell_type": "code",
   "execution_count": 24,
   "metadata": {},
   "outputs": [
    {
     "name": "stdout",
     "output_type": "stream",
     "text": [
      "The input is number.\n"
     ]
    }
   ],
   "source": [
    "#18 Check if the user input is the number:-\n",
    "\n",
    "user_input=input('Enter a value:')\n",
    "if user_input.isnumeric():\n",
    "    print('The input is number.')\n",
    "else:\n",
    "    print('The input is not a number.')\n",
    "        \n",
    "\n",
    "\n"
   ]
  },
  {
   "cell_type": "code",
   "execution_count": 27,
   "metadata": {},
   "outputs": [
    {
     "name": "stdout",
     "output_type": "stream",
     "text": [
      "this is not a good string\n"
     ]
    }
   ],
   "source": [
    "#19 Remove the extra spaces in beginning and in the end of the following string :-\n",
    "\n",
    "text='  this is not a good string    '\n",
    "x=text.strip()\n",
    "print(x)"
   ]
  },
  {
   "cell_type": "code",
   "execution_count": 38,
   "metadata": {},
   "outputs": [
    {
     "name": "stdout",
     "output_type": "stream",
     "text": [
      "not found\n"
     ]
    }
   ],
   "source": [
    "#20 Ask user to input string, print 'found' if any of the character is uppercase:-\n",
    "\n",
    "user_input=input('Enter a string:')\n",
    "if user_input.isupper():\n",
    "    print('found')\n",
    "else:\n",
    "    print('not found')    \n",
    "\n"
   ]
  },
  {
   "cell_type": "code",
   "execution_count": null,
   "metadata": {},
   "outputs": [],
   "source": []
  }
 ],
 "metadata": {
  "kernelspec": {
   "display_name": "base",
   "language": "python",
   "name": "python3"
  },
  "language_info": {
   "codemirror_mode": {
    "name": "ipython",
    "version": 3
   },
   "file_extension": ".py",
   "mimetype": "text/x-python",
   "name": "python",
   "nbconvert_exporter": "python",
   "pygments_lexer": "ipython3",
   "version": "3.10.10"
  },
  "orig_nbformat": 4
 },
 "nbformat": 4,
 "nbformat_minor": 2
}
