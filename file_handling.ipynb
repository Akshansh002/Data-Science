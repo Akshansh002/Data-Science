{
 "cells": [
  {
   "cell_type": "markdown",
   "metadata": {},
   "source": [
    "# File handling:-\n",
    "- open\n",
    "- read\n",
    "- write\n",
    "- append\n",
    "- close\n",
    "    - with keyword is better"
   ]
  },
  {
   "cell_type": "code",
   "execution_count": 2,
   "metadata": {},
   "outputs": [
    {
     "data": {
      "text/plain": [
       "<_io.TextIOWrapper name='ti.py' mode='r' encoding='UTF-8'>"
      ]
     },
     "execution_count": 2,
     "metadata": {},
     "output_type": "execute_result"
    }
   ],
   "source": [
    "open('ti.py') # Open and load into memory."
   ]
  },
  {
   "cell_type": "code",
   "execution_count": 7,
   "metadata": {},
   "outputs": [
    {
     "name": "stdout",
     "output_type": "stream",
     "text": [
      "from turtle import *\n",
      "\n",
      "speed('slowest')\n",
      "pencolor('red')\n",
      "\n",
      "# range (stop)\n",
      "# range (start,stop)\n",
      "# range(start,stop,step)\n",
      "\n",
      "for i in range(6,40,5):\n",
      "    fd(120)\n",
      "    lt(360/6)\n",
      "    dot(10,'green')\n",
      "    write(i,font=('Calibri',20,'bold'))\n",
      "\n",
      "goto(100,100)\n",
      "for i in range(10,0,-1):\n",
      "    fd(60)\n",
      "    lt(360/10)\n",
      "    dot(10,'red')\n",
      "    write(i,font=('Calibri',20,'bold'))\n",
      "\n",
      "mainloop()\n",
      "\n"
     ]
    }
   ],
   "source": [
    "# reading a file using with statement\n",
    "\n",
    "with open('ti.py') as file:\n",
    "    content=file.read()\n",
    "print(content)    \n"
   ]
  },
  {
   "cell_type": "code",
   "execution_count": 6,
   "metadata": {},
   "outputs": [
    {
     "name": "stdout",
     "output_type": "stream",
     "text": [
      "from turtle import *\n",
      "\n",
      "speed('slowest')\n",
      "pencolor('red')\n",
      "\n",
      "# range (stop)\n",
      "# range (start,stop)\n",
      "# range(start,stop,step)\n",
      "\n",
      "for i in range(6,40,5):\n",
      "    fd(120)\n",
      "    lt(360/6)\n",
      "    dot(10,'green')\n",
      "    write(i,font=('Calibri',20,'bold'))\n",
      "\n",
      "goto(100,100)\n",
      "for i in range(10,0,-1):\n",
      "    fd(60)\n",
      "    lt(360/10)\n",
      "    dot(10,'red')\n",
      "    write(i,font=('Calibri',20,'bold'))\n",
      "\n",
      "mainloop()\n",
      "\n"
     ]
    }
   ],
   "source": [
    "# reading a file with encoding and errors.\n",
    "\n",
    "with open('ti.py',encoding='utf-8',errors='ignore') as file:\n",
    "    content=file.read()\n",
    "print(content)"
   ]
  },
  {
   "cell_type": "code",
   "execution_count": 9,
   "metadata": {},
   "outputs": [
    {
     "name": "stdout",
     "output_type": "stream",
     "text": [
      "7226\n"
     ]
    }
   ],
   "source": [
    "path= r'C:\\Users\\Harshit\\Downloads\\download.jpg'\n",
    "# Open the file in read binary mode\n",
    "\n",
    "with open(path,'rb') as file:\n",
    "    bytes=file.read()\n",
    "print(len(bytes))    "
   ]
  },
  {
   "cell_type": "code",
   "execution_count": 10,
   "metadata": {},
   "outputs": [
    {
     "name": "stdout",
     "output_type": "stream",
     "text": [
      "File created successfully\n"
     ]
    }
   ],
   "source": [
    "# Creating a text file\n",
    "\n",
    "data='Life Before Death\\nStrength Before Weakness\\nJourney Before Destination'\n",
    "\n",
    "# 'w' is the write mode\n",
    "with open('oaths.txt','w') as f:\n",
    "    f.write(data)\n",
    "    print('File created successfully')"
   ]
  },
  {
   "cell_type": "code",
   "execution_count": 13,
   "metadata": {},
   "outputs": [
    {
     "name": "stdout",
     "output_type": "stream",
     "text": [
      "Kahani Khatam\n"
     ]
    }
   ],
   "source": [
    "with open('kahani.txt','w') as file:\n",
    "    while True:\n",
    "        line=input('>>>')\n",
    "        if not line:\n",
    "            break\n",
    "        file.write(line + '\\n')\n",
    "    print('Kahani Khatam')    "
   ]
  },
  {
   "cell_type": "code",
   "execution_count": 15,
   "metadata": {},
   "outputs": [
    {
     "name": "stdout",
     "output_type": "stream",
     "text": [
      "File updated successfully\n"
     ]
    }
   ],
   "source": [
    "# Adding content to existing file\n",
    "\n",
    "with open ('oaths.txt','a') as file:\n",
    "    file.write('\\nThe first ideal of Knight Radiant\\n')\n",
    "    file.write('from the book:The way of Kings\\n')\n",
    "    print('File updated successfully')\n"
   ]
  },
  {
   "cell_type": "markdown",
   "metadata": {},
   "source": [
    "# OS Library:-"
   ]
  },
  {
   "cell_type": "code",
   "execution_count": 16,
   "metadata": {},
   "outputs": [],
   "source": [
    "import os"
   ]
  },
  {
   "cell_type": "code",
   "execution_count": 17,
   "metadata": {},
   "outputs": [
    {
     "name": "stdout",
     "output_type": "stream",
     "text": [
      "the current path is:\n",
      "c:\\Users\\Harshit\\OneDrive\\Documents\\Data Science\n"
     ]
    }
   ],
   "source": [
    "print('the current path is:')\n",
    "print(os.getcwd())"
   ]
  },
  {
   "cell_type": "code",
   "execution_count": 18,
   "metadata": {},
   "outputs": [
    {
     "name": "stdout",
     "output_type": "stream",
     "text": [
      "All the content in current directory:\n"
     ]
    },
    {
     "data": {
      "text/plain": [
       "['.git',\n",
       " 'basics.ipynb',\n",
       " 'conditions.ipynb',\n",
       " 'dictionary.ipynb',\n",
       " 'file_handling.ipynb',\n",
       " 'hello.py',\n",
       " 'kahani.txt',\n",
       " 'list.ipynb',\n",
       " 'loops.ipynb',\n",
       " 'oaths.txt',\n",
       " 'practicestrings.ipynb',\n",
       " 'strings.ipynb',\n",
       " 't2.py',\n",
       " 't3.py',\n",
       " 't4.py',\n",
       " 'ti.py',\n",
       " 'tuples_and_sets.ipynb']"
      ]
     },
     "execution_count": 18,
     "metadata": {},
     "output_type": "execute_result"
    }
   ],
   "source": [
    "print('All the content in current directory:')\n",
    "os.listdir()"
   ]
  },
  {
   "cell_type": "code",
   "execution_count": 24,
   "metadata": {},
   "outputs": [
    {
     "name": "stdout",
     "output_type": "stream",
     "text": [
      "All the content of some other location\n"
     ]
    },
    {
     "data": {
      "text/plain": [
       "['Custom Office Templates',\n",
       " 'Data Science',\n",
       " 'desktop.ini',\n",
       " 'Python 100 Days of Programming',\n",
       " 'Zoom']"
      ]
     },
     "execution_count": 24,
     "metadata": {},
     "output_type": "execute_result"
    }
   ],
   "source": [
    "print('All the content of some other location')\n",
    "path=r'C:\\Users\\Harshit\\OneDrive\\Documents'\n",
    "os.listdir(path)"
   ]
  },
  {
   "cell_type": "code",
   "execution_count": 22,
   "metadata": {},
   "outputs": [
    {
     "name": "stdout",
     "output_type": "stream",
     "text": [
      "C:\\Users\\Harshit\\Downloads\\12+Rules+to+Learn+to+Code+[2nd+Edition]+2022 (1).pdf\n",
      "C:\\Users\\Harshit\\Downloads\\12+Rules+to+Learn+to+Code+[2nd+Edition]+2022.pdf\n",
      "C:\\Users\\Harshit\\Downloads\\1684927322636.jpg\n",
      "C:\\Users\\Harshit\\Downloads\\3333.doc\n",
      "C:\\Users\\Harshit\\Downloads\\333333333 Q.docx\n",
      "C:\\Users\\Harshit\\Downloads\\Adobe Scan 19-Mar-2023 (1).pdf\n",
      "C:\\Users\\Harshit\\Downloads\\Adobe Scan 19-Mar-2023.pdf\n",
      "C:\\Users\\Harshit\\Downloads\\AKSHANSH SINGH.docx\n",
      "C:\\Users\\Harshit\\Downloads\\Akshansh Singh.pdf\n",
      "C:\\Users\\Harshit\\Downloads\\antenna unit 1.pdf\n",
      "C:\\Users\\Harshit\\Downloads\\antenna unit 2 (1).pdf\n",
      "C:\\Users\\Harshit\\Downloads\\antenna unit 2.pdf\n",
      "C:\\Users\\Harshit\\Downloads\\antenna unit 3 (1).pdf\n",
      "C:\\Users\\Harshit\\Downloads\\antenna unit 3-1.pdf\n",
      "C:\\Users\\Harshit\\Downloads\\antenna unit 3.pdf\n",
      "C:\\Users\\Harshit\\Downloads\\antenna unit 4.pdf\n",
      "C:\\Users\\Harshit\\Downloads\\antenna unit 5.pdf\n",
      "C:\\Users\\Harshit\\Downloads\\AppBreweryCornellNotesTemplate.pdf\n",
      "C:\\Users\\Harshit\\Downloads\\BraveBrowserSetup-UJW151.exe\n",
      "C:\\Users\\Harshit\\Downloads\\dcomm unit 4.pdf\n",
      "C:\\Users\\Harshit\\Downloads\\desktop.ini\n",
      "C:\\Users\\Harshit\\Downloads\\digital nites unit-1 (1).pdf\n",
      "C:\\Users\\Harshit\\Downloads\\digital nites unit-1 (2).pdf\n",
      "C:\\Users\\Harshit\\Downloads\\digital nites unit-1.pdf\n",
      "C:\\Users\\Harshit\\Downloads\\digital t1.pdf\n",
      "C:\\Users\\Harshit\\Downloads\\DiscordSetup.exe\n",
      "C:\\Users\\Harshit\\Downloads\\DOC-20220301-WA0001..pdf\n",
      "C:\\Users\\Harshit\\Downloads\\download.jpg\n",
      "C:\\Users\\Harshit\\Downloads\\EC_KEC-062_PES_SS_24MAY2023_ER.S.P.VERMA.doc\n",
      "C:\\Users\\Harshit\\Downloads\\EC_KOE-062_PES_QP_24MAY2023_ER.S.P.VERMA.doc\n",
      "C:\\Users\\Harshit\\Downloads\\EDL PROJECT Akshansh.rar\n",
      "C:\\Users\\Harshit\\Downloads\\EDL PROJECT.zip\n",
      "C:\\Users\\Harshit\\Downloads\\Git-2.41.0.2-64-bit.exe\n",
      "C:\\Users\\Harshit\\Downloads\\HPSupportSolutionsFramework-12.19.53.13 (1).exe\n",
      "C:\\Users\\Harshit\\Downloads\\HPSupportSolutionsFramework-12.19.53.13 (2).exe\n",
      "C:\\Users\\Harshit\\Downloads\\HPSupportSolutionsFramework-12.19.53.13 (3).exe\n",
      "C:\\Users\\Harshit\\Downloads\\HPSupportSolutionsFramework-12.19.53.13.exe\n",
      "C:\\Users\\Harshit\\Downloads\\IBM Unit 1 - Introduction by Kulbhushan (Krazy Kaksha & KK World).pdf\n",
      "C:\\Users\\Harshit\\Downloads\\IBM Unit 2 -  Introduction to Entrepreneurship by Kulbhushan (Krazy Kaksha & KK World).pdf\n",
      "C:\\Users\\Harshit\\Downloads\\itcs 1.pdf\n",
      "C:\\Users\\Harshit\\Downloads\\itcs 2.pdf\n",
      "C:\\Users\\Harshit\\Downloads\\itcs 3.pdf\n",
      "C:\\Users\\Harshit\\Downloads\\itcs 4.pdf\n",
      "C:\\Users\\Harshit\\Downloads\\itcs 5.pdf\n",
      "C:\\Users\\Harshit\\Downloads\\Miniconda3-latest-Windows-x86_64.exe\n",
      "C:\\Users\\Harshit\\Downloads\\Rave-x64-Setup-1.10.13.exe\n",
      "C:\\Users\\Harshit\\Downloads\\sp104075 (1).exe\n",
      "C:\\Users\\Harshit\\Downloads\\sp104075.exe\n",
      "C:\\Users\\Harshit\\Downloads\\sp75508.exe\n",
      "C:\\Users\\Harshit\\Downloads\\sp78234.exe\n",
      "C:\\Users\\Harshit\\Downloads\\sp78245.exe\n",
      "C:\\Users\\Harshit\\Downloads\\sp84034.exe\n",
      "C:\\Users\\Harshit\\Downloads\\sp92936.exe\n",
      "C:\\Users\\Harshit\\Downloads\\sp95259.exe\n",
      "C:\\Users\\Harshit\\Downloads\\Tute 3 -Control system.pdf\n",
      "C:\\Users\\Harshit\\Downloads\\tute 3.pdf\n",
      "C:\\Users\\Harshit\\Downloads\\U4_L1A_Performance of Digital Receivers_18-07-2021.mp4\n",
      "C:\\Users\\Harshit\\Downloads\\U5_L5_Huffman Encoding_09-07-2021.mp4\n",
      "C:\\Users\\Harshit\\Downloads\\udemy certificate.jpg\n",
      "C:\\Users\\Harshit\\Downloads\\Unit 2.pdf\n",
      "C:\\Users\\Harshit\\Downloads\\unit 3 (Aashiqui).pdf\n",
      "C:\\Users\\Harshit\\Downloads\\unit 4 (Shiddat).pdf\n",
      "C:\\Users\\Harshit\\Downloads\\unit 5 (Deewangi).pdf\n",
      "C:\\Users\\Harshit\\Downloads\\VSCodeUserSetup-x64-1.78.2.exe\n",
      "C:\\Users\\Harshit\\Downloads\\Web+Dev+Resources.pdf\n",
      "C:\\Users\\Harshit\\Downloads\\Web+Dev+Syllabus.pdf\n",
      "C:\\Users\\Harshit\\Downloads\\ZoomInstallerFull.exe\n"
     ]
    }
   ],
   "source": [
    "# recursive file and folder\n",
    "\n",
    "for root,dirs,files in os.walk(r'C:\\Users\\Harshit\\Downloads',topdown=False):\n",
    "    for name in files:\n",
    "        print(os.path.join(root,name))\n",
    "    for name in dirs:\n",
    "        print(os.path.join(root,name))    "
   ]
  },
  {
   "cell_type": "code",
   "execution_count": null,
   "metadata": {},
   "outputs": [],
   "source": []
  }
 ],
 "metadata": {
  "kernelspec": {
   "display_name": "base",
   "language": "python",
   "name": "python3"
  },
  "language_info": {
   "codemirror_mode": {
    "name": "ipython",
    "version": 3
   },
   "file_extension": ".py",
   "mimetype": "text/x-python",
   "name": "python",
   "nbconvert_exporter": "python",
   "pygments_lexer": "ipython3",
   "version": "3.10.10"
  },
  "orig_nbformat": 4
 },
 "nbformat": 4,
 "nbformat_minor": 2
}
