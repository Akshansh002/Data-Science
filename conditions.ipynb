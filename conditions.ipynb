{
 "cells": [
  {
   "cell_type": "code",
   "execution_count": null,
   "metadata": {},
   "outputs": [],
   "source": []
  },
  {
   "cell_type": "markdown",
   "metadata": {},
   "source": [
    "Conditions\n",
    "- if\n",
    "- if else\n",
    "- if elif else\n",
    "- match case"
   ]
  },
  {
   "cell_type": "markdown",
   "metadata": {},
   "source": []
  },
  {
   "cell_type": "code",
   "execution_count": 4,
   "metadata": {},
   "outputs": [],
   "source": [
    "x=10\n",
    "y=3"
   ]
  },
  {
   "cell_type": "code",
   "execution_count": 7,
   "metadata": {},
   "outputs": [
    {
     "name": "stdout",
     "output_type": "stream",
     "text": [
      "x is greater than y\n",
      "that is true\n",
      "this is always printed\n"
     ]
    }
   ],
   "source": [
    "if x>y:\n",
    "    print(\"x is greater than y\")\n",
    "    print(\"that is true\")\n",
    "print(\"this is always printed\")    "
   ]
  },
  {
   "cell_type": "code",
   "execution_count": 8,
   "metadata": {},
   "outputs": [],
   "source": [
    "if x==y:\n",
    "    print(\"wow\")"
   ]
  },
  {
   "cell_type": "code",
   "execution_count": 9,
   "metadata": {},
   "outputs": [
    {
     "name": "stdout",
     "output_type": "stream",
     "text": [
      "x is greater than y and x is greater than 8\n"
     ]
    }
   ],
   "source": [
    "if x>y and x>8:\n",
    "    print(\"x is greater than y and x is greater than 8\")"
   ]
  },
  {
   "cell_type": "code",
   "execution_count": null,
   "metadata": {},
   "outputs": [],
   "source": []
  },
  {
   "cell_type": "markdown",
   "metadata": {},
   "source": [
    "True values\n",
    "- True\n",
    "- non-zero numbers\n",
    "- non-empty strings\n",
    "\n",
    "False values\n",
    "- False\n",
    "- 0\n",
    "- 0.0\n",
    "- None\n",
    "- empty strings"
   ]
  },
  {
   "cell_type": "markdown",
   "metadata": {},
   "source": []
  },
  {
   "cell_type": "code",
   "execution_count": 11,
   "metadata": {},
   "outputs": [
    {
     "name": "stdout",
     "output_type": "stream",
     "text": [
      "you entered Akshansh\n"
     ]
    }
   ],
   "source": [
    "name=input('Enter a name')\n",
    "if name:\n",
    "    print(f'you entered {name}')\n",
    "else:\n",
    "        print(f'you did not entered {name}')"
   ]
  },
  {
   "cell_type": "code",
   "execution_count": 12,
   "metadata": {},
   "outputs": [
    {
     "name": "stdout",
     "output_type": "stream",
     "text": [
      "Number is even\n"
     ]
    }
   ],
   "source": [
    "number = int  (input('Enter a number'))\n",
    "if number%2==0:\n",
    "    print('Number is even')\n",
    "else:\n",
    "    print('Number is odd') \n"
   ]
  },
  {
   "cell_type": "code",
   "execution_count": 13,
   "metadata": {},
   "outputs": [
    {
     "name": "stdout",
     "output_type": "stream",
     "text": [
      "Welcome admin\n"
     ]
    }
   ],
   "source": [
    "username=input('Enter username')\n",
    "password=input('Enter password')\n",
    "if username == 'admin':\n",
    "    if password == '123admin':\n",
    "        print('Welcome admin')\n",
    "    else:\n",
    "        print('Invalid password')\n",
    "else:\n",
    "    print('Invalid username')            \n"
   ]
  },
  {
   "cell_type": "code",
   "execution_count": 14,
   "metadata": {},
   "outputs": [
    {
     "name": "stdout",
     "output_type": "stream",
     "text": [
      "wednesday\n"
     ]
    }
   ],
   "source": [
    "day=input('Enter day')\n",
    "if day=='monday':\n",
    "    print('monday')\n",
    "elif day=='tuesday':\n",
    "    print('tuesday')\n",
    "elif day=='wednesday':\n",
    "    print('wednesday')\n",
    "else:\n",
    "    print('holiday')            "
   ]
  },
  {
   "cell_type": "code",
   "execution_count": 15,
   "metadata": {},
   "outputs": [
    {
     "name": "stdout",
     "output_type": "stream",
     "text": [
      "time to work again\n"
     ]
    }
   ],
   "source": [
    "day=input('Enter day')\n",
    "match day:\n",
    "    case'monday':\n",
    "        print('time to work')\n",
    "    case 'tuesday'| 'wednesday':       #pipe symbol\n",
    "        print('time to work again') \n",
    "    case 'thursday':\n",
    "        print('almost there')\n",
    "    case 'friday':\n",
    "        print('weekend,not really')\n",
    "    case _:        \n",
    "        print('holiday')\n"
   ]
  },
  {
   "cell_type": "code",
   "execution_count": 16,
   "metadata": {},
   "outputs": [
    {
     "name": "stdout",
     "output_type": "stream",
     "text": [
      "capricorn\n"
     ]
    }
   ],
   "source": [
    "birthmonth= input('Enter birthmonth')\n",
    "match birthmonth:\n",
    "    case'january':\n",
    "        print('capricorn')\n",
    "    case'februrary':\n",
    "        print('saggitarius')\n",
    "    case'march':\n",
    "        print('libra')\n",
    "    case'april':\n",
    "        print('leo')\n",
    "    case'may':\n",
    "        print('pisces') \n",
    "    case'june':\n",
    "        print('aries')\n",
    "    case'july':\n",
    "        print('gemini')\n",
    "    case'august':\n",
    "        print('cancer')\n",
    "    case'september':\n",
    "        print('taurus')\n",
    "    case _:\n",
    "        print('Invalid input')        \n",
    "                            \n"
   ]
  },
  {
   "cell_type": "code",
   "execution_count": null,
   "metadata": {},
   "outputs": [],
   "source": []
  }
 ],
 "metadata": {
  "kernelspec": {
   "display_name": "base",
   "language": "python",
   "name": "python3"
  },
  "language_info": {
   "codemirror_mode": {
    "name": "ipython",
    "version": 3
   },
   "file_extension": ".py",
   "mimetype": "text/x-python",
   "name": "python",
   "nbconvert_exporter": "python",
   "pygments_lexer": "ipython3",
   "version": "3.10.10"
  },
  "orig_nbformat": 4
 },
 "nbformat": 4,
 "nbformat_minor": 2
}
