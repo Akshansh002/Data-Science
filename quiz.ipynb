{
 "cells": [
  {
   "cell_type": "code",
   "execution_count": 3,
   "metadata": {},
   "outputs": [
    {
     "name": "stdout",
     "output_type": "stream",
     "text": [
      "[1, 2, 3, 4, 5, 6]\n"
     ]
    }
   ],
   "source": [
    "# Question:\n",
    "# Given a list numbers = [1, 2, 3, 4, 5], write Python code to append the number 6 to the end of the list.\n",
    "\n",
    "x=[1,2,3,4,5]\n",
    "x.append(6)\n",
    "print(x)"
   ]
  },
  {
   "cell_type": "code",
   "execution_count": 4,
   "metadata": {},
   "outputs": [
    {
     "name": "stdout",
     "output_type": "stream",
     "text": [
      "['apple', 'banana', 'grape']\n"
     ]
    }
   ],
   "source": [
    "# Question:\n",
    "# Suppose you have a list fruits = ['apple', 'banana', 'orange', 'grape']. Write Python code to remove the element 'orange' from the list.\n",
    "\n",
    "fruits = ['apple', 'banana', 'orange', 'grape']\n",
    "fruits.remove('orange')\n",
    "print(fruits)"
   ]
  },
  {
   "cell_type": "code",
   "execution_count": 19,
   "metadata": {},
   "outputs": [
    {
     "name": "stdout",
     "output_type": "stream",
     "text": [
      "[2]\n"
     ]
    }
   ],
   "source": [
    "# Question:\n",
    "# Write a Python code that takes a list of integers as input and returns a new list with only the even numbers from the original list.\n",
    "\n",
    "list1=[]\n",
    "num=int(input('Enter number of elements:'))\n",
    "for i in range (num):\n",
    "    d=int(input('Enter a number:'))\n",
    "    list1.append(d)\n",
    "list2=[i for i in list1 if i%2==0]\n",
    "print(list2)    \n"
   ]
  },
  {
   "cell_type": "code",
   "execution_count": 20,
   "metadata": {},
   "outputs": [
    {
     "name": "stdout",
     "output_type": "stream",
     "text": [
      "[1, 2, 3, 4, 5, 6]\n"
     ]
    }
   ],
   "source": [
    "# Question:\n",
    "# Given two lists list1 = [1, 2, 3] and list2 = [4, 5, 6], write Python code to combine these two lists and create a new list.\n",
    "\n",
    "list1 = [1, 2, 3]\n",
    "list2 = [4, 5, 6]\n",
    "list1.extend(list2)\n",
    "print(list1)"
   ]
  },
  {
   "cell_type": "code",
   "execution_count": 22,
   "metadata": {},
   "outputs": [
    {
     "name": "stdout",
     "output_type": "stream",
     "text": [
      "['akshansh']\n"
     ]
    }
   ],
   "source": [
    "# Question:\n",
    "# Write a Python code that takes a list of strings as input and returns a new list containing only the strings with a length greater than 5.\n",
    "\n",
    "empty=[]\n",
    "empty2=[]\n",
    "n=int(input('Enter number of elements:'))\n",
    "for i in range (n):\n",
    "    d=input('enter a string')\n",
    "    empty.append(d)\n",
    "for str in empty:\n",
    "    if len(str)>5:\n",
    "        empty2.append(str)\n",
    "print(empty2)            "
   ]
  },
  {
   "cell_type": "code",
   "execution_count": 6,
   "metadata": {},
   "outputs": [
    {
     "name": "stdout",
     "output_type": "stream",
     "text": [
      "{'name': 'John', 'age': 25, 'major': 'Computer Science'}\n"
     ]
    }
   ],
   "source": [
    "# Question:\n",
    "# Create a Python dictionary student with the following key-value pairs: 'name' set to 'John', 'age' set to 25, and 'major' set to 'Computer Science'.\n",
    "\n",
    "student={\n",
    "    'name' : 'John',\n",
    "    'age' : 25,\n",
    "    'major' : 'Computer Science'\n",
    "}\n",
    "print(student)"
   ]
  },
  {
   "cell_type": "code",
   "execution_count": 8,
   "metadata": {},
   "outputs": [
    {
     "name": "stdout",
     "output_type": "stream",
     "text": [
      "grapes does not exist in dictionary\n"
     ]
    }
   ],
   "source": [
    "# Question:\n",
    "# Given the following dictionary inventory = {'apples': 10, 'bananas': 5, 'oranges': 8}, write Python code to check if the key 'grapes' is present in the dictionary.\n",
    "\n",
    "inventory = {'apples': 10, 'bananas': 5, 'oranges': 8}\n",
    "if 'grapes' in inventory:\n",
    "    print('grapes exist in dictionary')\n",
    "else:\n",
    "    print('grapes does not exist in dictionary')    "
   ]
  },
  {
   "cell_type": "code",
   "execution_count": 23,
   "metadata": {},
   "outputs": [
    {
     "name": "stdout",
     "output_type": "stream",
     "text": [
      "{'Jack': 3000, 'Jason': 1000}\n"
     ]
    }
   ],
   "source": [
    "# Question:\n",
    "# Suppose you have a dictionary contacts containing contact information. Write Python code to remove the contact with the key 'John' from the dictionary.\n",
    "\n",
    "contact={\n",
    "    'John' : 9000,\n",
    "    'Jack' : 3000,\n",
    "    'Jason' : 1000\n",
    "}\n",
    "del contact['John']\n",
    "print(contact)"
   ]
  },
  {
   "cell_type": "code",
   "execution_count": 9,
   "metadata": {},
   "outputs": [
    {
     "name": "stdout",
     "output_type": "stream",
     "text": [
      "THIS IS A SENTENCE\n"
     ]
    }
   ],
   "source": [
    "# Question:\n",
    "# How can you convert a string sentence to all uppercase letters in Python?\n",
    "\n",
    "sentence='this is a sentence'\n",
    "x=sentence.upper()\n",
    "print(x)"
   ]
  },
  {
   "cell_type": "code",
   "execution_count": 10,
   "metadata": {},
   "outputs": [
    {
     "name": "stdout",
     "output_type": "stream",
     "text": [
      "example.com\n"
     ]
    }
   ],
   "source": [
    "# Question:\n",
    "# Given a string email = \"john.doe@example.com\", write Python code to extract the domain name 'example.com' from the email.\n",
    "\n",
    "email = \"john.doe@example.com\"\n",
    "x=email.split('@')\n",
    "domain_name=x[1]\n",
    "print(domain_name)\n"
   ]
  },
  {
   "cell_type": "code",
   "execution_count": 11,
   "metadata": {},
   "outputs": [
    {
     "name": "stdout",
     "output_type": "stream",
     "text": [
      "hx hxllx\n"
     ]
    }
   ],
   "source": [
    "# Question:\n",
    "# Write a Python code that takes a string as input and returns a new string with all vowels replaced by the letter 'x'.\n",
    "\n",
    "x=input('Enter String:')\n",
    "y=x\n",
    "for c in 'aeiou':\n",
    "    y=y.replace(c,'x')\n",
    "print(y)    \n",
    "\n",
    "\n"
   ]
  },
  {
   "cell_type": "code",
   "execution_count": 13,
   "metadata": {},
   "outputs": [
    {
     "name": "stdout",
     "output_type": "stream",
     "text": [
      "4\n"
     ]
    }
   ],
   "source": [
    "# Question:\n",
    "# Suppose you have a string sentence = \"Python programming is fun!\". Write Python code to count the number of words in the sentence.\n",
    "\n",
    "sentence = \"Python programming is fun!\"\n",
    "words=sentence.split()\n",
    "word_length=len(words)\n",
    "print(word_length)"
   ]
  },
  {
   "cell_type": "code",
   "execution_count": 15,
   "metadata": {},
   "outputs": [
    {
     "name": "stdout",
     "output_type": "stream",
     "text": [
      "19\n"
     ]
    }
   ],
   "source": [
    "# Question:\n",
    "# Suppose you have a list numbers = [3, 5, 1, 8, 2]. Write Python code to find the sum of all the numbers in the list.\n",
    "\n",
    "numbers = [3, 5, 1, 8, 2]\n",
    "sum=0\n",
    "for i in numbers:\n",
    "    sum=sum+i\n",
    "print(sum)    "
   ]
  },
  {
   "cell_type": "code",
   "execution_count": 17,
   "metadata": {},
   "outputs": [
    {
     "name": "stdout",
     "output_type": "stream",
     "text": [
      "hello world\n"
     ]
    }
   ],
   "source": [
    "# Question:\n",
    "# Suppose you have a list words = ['hello', 'world']. Write Python code to join the elements of the list into a single string separated by a space.\n",
    "\n",
    "list_words = ['hello', 'world']\n",
    "joined_string = ' '.join(list_words)\n",
    "print(joined_string)"
   ]
  },
  {
   "cell_type": "code",
   "execution_count": 24,
   "metadata": {},
   "outputs": [
    {
     "data": {
      "text/plain": [
       "{'home': '123-456-7890', 'work': '987-654-3210'}"
      ]
     },
     "execution_count": 24,
     "metadata": {},
     "output_type": "execute_result"
    }
   ],
   "source": [
    "#Question:\n",
    "# Suppose you have a nested dictionary representing a person's contact information:\n",
    "# Write Python code to extract John's home phone number from the dictionary.\n",
    "\n",
    "contact_info = {\n",
    "    'name': 'John Doe',\n",
    "    'phone': {\n",
    "        'home': '123-456-7890',\n",
    "        'work': '987-654-3210'\n",
    "    },\n",
    "    'email': 'john.doe@example.com'\n",
    "}\n",
    "\n",
    "contact_info.get('phone')"
   ]
  },
  {
   "cell_type": "code",
   "execution_count": 25,
   "metadata": {},
   "outputs": [
    {
     "name": "stdout",
     "output_type": "stream",
     "text": [
      "em olleh ih\n"
     ]
    }
   ],
   "source": [
    "# Question:\n",
    "# Write a Python code that takes a string as input and returns the string reversed.\n",
    "\n",
    "str=input('enter a string:')\n",
    "str1=str[::-1]\n",
    "print(str1)"
   ]
  },
  {
   "cell_type": "code",
   "execution_count": 26,
   "metadata": {},
   "outputs": [
    {
     "name": "stdout",
     "output_type": "stream",
     "text": [
      "3\n"
     ]
    }
   ],
   "source": [
    "# Question:\n",
    "# Write a Python code that takes a string as input and returns the number of words in the string.\n",
    "\n",
    "str=input('enter a string:')\n",
    "words=str.split()\n",
    "word_len=len(words)\n",
    "print(word_len)"
   ]
  },
  {
   "cell_type": "code",
   "execution_count": 27,
   "metadata": {},
   "outputs": [
    {
     "name": "stdout",
     "output_type": "stream",
     "text": [
      "hi!hello@me#\n",
      "hihellome\n"
     ]
    }
   ],
   "source": [
    "# Question:\n",
    "# Write a Python code that takes a string as input and returns a new string with all the punctuation marks removed.\n",
    "\n",
    "str=input('enter a string:')\n",
    "copy=str\n",
    "for c in '!@#$%^&*()':\n",
    "    copy=copy.replace(c,'')\n",
    "print(str)\n",
    "print(copy)    "
   ]
  },
  {
   "cell_type": "code",
   "execution_count": null,
   "metadata": {},
   "outputs": [],
   "source": []
  }
 ],
 "metadata": {
  "kernelspec": {
   "display_name": "base",
   "language": "python",
   "name": "python3"
  },
  "language_info": {
   "codemirror_mode": {
    "name": "ipython",
    "version": 3
   },
   "file_extension": ".py",
   "mimetype": "text/x-python",
   "name": "python",
   "nbconvert_exporter": "python",
   "pygments_lexer": "ipython3",
   "version": "3.10.10"
  },
  "orig_nbformat": 4
 },
 "nbformat": 4,
 "nbformat_minor": 2
}
